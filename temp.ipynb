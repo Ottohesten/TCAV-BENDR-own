{
 "cells": [
  {
   "cell_type": "code",
   "execution_count": 3,
   "metadata": {},
   "outputs": [],
   "source": [
    "from utils import load_mmidb_data_dict"
   ]
  },
  {
   "cell_type": "code",
   "execution_count": 4,
   "metadata": {},
   "outputs": [],
   "source": [
    "ACTIVTY_DICT_PATH = \"\"\n",
    "PARCELLATION = \"HCPMMP1_combined\"\n",
    "SNR = 100.0\n",
    "\n",
    "\n",
    "\n",
    "activity_dict = load_mmidb_data_dict(ACTIVTY_DICT_PATH, PARCELLATION, SNR, chop=True)\n"
   ]
  },
  {
   "cell_type": "code",
   "execution_count": 32,
   "metadata": {},
   "outputs": [
    {
     "data": {
      "text/plain": [
       "array([2.43784826e-20, 2.25734028e-20, 3.65297972e-20, 2.69126272e-20,\n",
       "       2.34230111e-20, 1.83968163e-20, 3.74669876e-20, 1.63970954e-20,\n",
       "       2.14909600e-20, 6.20178871e-20, 4.72386996e-20, 1.71436669e-20,\n",
       "       2.96994440e-20, 2.50353836e-20, 1.89396465e-20])"
      ]
     },
     "execution_count": 32,
     "metadata": {},
     "output_type": "execute_result"
    }
   ],
   "source": []
  }
 ],
 "metadata": {
  "kernelspec": {
   "display_name": "myenv",
   "language": "python",
   "name": "python3"
  },
  "language_info": {
   "codemirror_mode": {
    "name": "ipython",
    "version": 3
   },
   "file_extension": ".py",
   "mimetype": "text/x-python",
   "name": "python",
   "nbconvert_exporter": "python",
   "pygments_lexer": "ipython3",
   "version": "3.11.9"
  }
 },
 "nbformat": 4,
 "nbformat_minor": 2
}
